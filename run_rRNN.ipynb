{
 "cells": [
  {
   "cell_type": "code",
   "execution_count": null,
   "metadata": {},
   "outputs": [],
   "source": [
    "import numpy as np\n",
    "import torch\n",
    "import utility as util\n",
    "import network as net\n",
    "\n",
    "# data var\n",
    "xLength             = 64\n",
    "yLength             = 512\n",
    "device              = 'cuda:0'\n",
    "version             = '_1'\n",
    "\n",
    "dataSimulFID        = np.load('simul_Data.npz')['FID']\n",
    "\n",
    "# train var\n",
    "trainNum            = 10000\n",
    "validNum            = 1000\n",
    "minibatchSize       = 128\n",
    "epochNum            = 30\n",
    "minibatchSize_eval  = 1000\n",
    "\n",
    "learningRate        = 0.001\n",
    "hiddenDim           = 150\n",
    "layerNum            = 1\n",
    "teacherForce        = 0.5\n",
    "\n",
    "######################################################################################################################################\n",
    "# train data func\n",
    "def getDataloader(xLen,data,batchSize,shuf):\n",
    "    class RNN_Dataset(torch.utils.data.Dataset):\n",
    "        def __init__(self):\n",
    "            self.x_data = torch.FloatTensor(util.Normalize(data[:,:xLen,:],data[:,:xLen,:])).to(device)\n",
    "            self.y_data = torch.FloatTensor(util.Normalize(data[:,xLen:,:],data[:,:xLen,:])).to(device)\n",
    "        def __len__(self):\n",
    "            return len(self.x_data)\n",
    "\n",
    "        def __getitem__(self, idx):\n",
    "            x = self.x_data[idx]\n",
    "            y = self.y_data[idx]\n",
    "            return x, y\n",
    "\n",
    "    Train_dataset    = RNN_Dataset()\n",
    "    if shuf == 'shufT':\n",
    "        RNN_dataloader = torch.utils.data.DataLoader(Train_dataset, batch_size = batchSize, shuffle = True)\n",
    "    elif shuf == 'shufF':\n",
    "        RNN_dataloader = torch.utils.data.DataLoader(Train_dataset, batch_size = batchSize, shuffle = False)\n",
    "    return RNN_dataloader"
   ]
  },
  {
   "cell_type": "code",
   "execution_count": 2,
   "metadata": {},
   "outputs": [],
   "source": [
    "######################################################################################################################################\n",
    "# train func\n",
    "def getRNN(xLen,yLen,LearnRate,hiddenNum,layerNum):\n",
    "    # data load\n",
    "    dataloader_train = getDataloader(xLen,dataSimulFID[:trainNum,:,:],minibatchSize,'shufT')\n",
    "    # model load\n",
    "    encoder          = net.rRNN_encoder(hiddenNum, layerNum)\n",
    "    decoder          = net.rRNN_decoder(hiddenNum, layerNum)\n",
    "    model            = net.rRNN(encoder, decoder).to(device)\n",
    "    # train\n",
    "    optimizer        = torch.optim.Adam(model.parameters(), lr=LearnRate)\n",
    "    \n",
    "    for epoch in range(epochNum):\n",
    "        model.train()\n",
    "        for _, samples in enumerate(dataloader_train):\n",
    "            x_train, y_train  = samples\n",
    "            x_predict         = model(x_train, y_train, xLen, yLen, teacherForce, device)\n",
    "            cost_train        = torch.nn.MSELoss()\n",
    "            cost              = cost_train(x_predict, y_train)\n",
    "            optimizer.zero_grad()\n",
    "            cost.backward()\n",
    "            optimizer.step()\n",
    "        \n",
    "        print(epoch+1,'/',epochNum,\n",
    "                'Train_cost: ',round(cost.item(),6),\n",
    "                'Valid_cost: ',round(evalRNN(xLen,yLen,model,dataSimulFID[trainNum:trainNum+validNum,:,:],minibatchSize_eval).item(),6)\n",
    "                )\n",
    "    return model\n",
    "\n",
    "def evalRNN(xLen,yLen,model_eval,data_eval,batchSize_eval):\n",
    "    dataloader_eval    = getDataloader(xLen,data_eval,batchSize_eval,'shufF')\n",
    "    model_eval.eval()\n",
    "    with torch.no_grad():\n",
    "        costSum_eval = 0.0\n",
    "        for _, samples in enumerate(dataloader_eval):\n",
    "            x_eval, y_eval = samples\n",
    "            x_predict      = model_eval(x_eval, y_eval, xLen, yLen,  0, device)\n",
    "            cost_eval      = torch.nn.MSELoss()\n",
    "            costSum_eval  += cost_eval(x_predict, y_eval)\n",
    "    return costSum_eval/(len(data_eval)/batchSize_eval)\n",
    "##################################################################################################################"
   ]
  },
  {
   "attachments": {},
   "cell_type": "markdown",
   "metadata": {},
   "source": [
    "Running"
   ]
  },
  {
   "cell_type": "code",
   "execution_count": null,
   "metadata": {},
   "outputs": [],
   "source": [
    "model   = getRNN(xLength, yLength, learningRate, hiddenDim, layerNum)"
   ]
  },
  {
   "cell_type": "markdown",
   "metadata": {},
   "source": [
    "Reconstruction"
   ]
  },
  {
   "cell_type": "code",
   "execution_count": null,
   "metadata": {},
   "outputs": [],
   "source": [
    "def getFID_RNN(xLen,yLen,model_eval,data_eval,batchSize_eval):\n",
    "    dataloader_eval    = getDataloader(xLen,data_eval,batchSize_eval,'shufF')\n",
    "    model_eval.eval()\n",
    "    with torch.no_grad():\n",
    "        predFID_eval_normal = torch.Tensor([]).to(device)\n",
    "        for _, samples in enumerate(dataloader_eval):\n",
    "            x_eval, y_eval      = samples\n",
    "            x_predict           = model_eval(x_eval, y_eval, xLen, yLen,  0, device)\n",
    "            predFID_eval_normal = torch.cat([predFID_eval_normal,torch.cat([x_eval,x_predict], 1)],0)\n",
    "    preFID_eval = util.returnNormalize(predFID_eval_normal.data.cpu().numpy(),data_eval[:,:xLen,:])\n",
    "    return preFID_eval"
   ]
  },
  {
   "cell_type": "code",
   "execution_count": 4,
   "metadata": {},
   "outputs": [],
   "source": [
    "test_FID  = dataSimulFID[-10:,:,:]\n",
    "recon_FID = getFID_RNN(xLength, yLength,model,test_FID,10)"
   ]
  },
  {
   "cell_type": "code",
   "execution_count": null,
   "metadata": {},
   "outputs": [],
   "source": [
    "import matplotlib.pyplot as plt\n",
    "plt.plot(test_FID[0,:,0])\n",
    "plt.plot(recon_FID[0,:].real)\n",
    "plt.show()"
   ]
  },
  {
   "cell_type": "code",
   "execution_count": null,
   "metadata": {},
   "outputs": [],
   "source": [
    "import matplotlib.pyplot as plt"
   ]
  }
 ],
 "metadata": {
  "kernelspec": {
   "display_name": "venv",
   "language": "python",
   "name": "python3"
  },
  "language_info": {
   "codemirror_mode": {
    "name": "ipython",
    "version": 3
   },
   "file_extension": ".py",
   "mimetype": "text/x-python",
   "name": "python",
   "nbconvert_exporter": "python",
   "pygments_lexer": "ipython3",
   "version": "3.10.9"
  },
  "orig_nbformat": 4,
  "vscode": {
   "interpreter": {
    "hash": "693434f7fc6b5ca2f2282639c3347fa1640c6b0d5d07470d49c84b9bb0b3d2aa"
   }
  }
 },
 "nbformat": 4,
 "nbformat_minor": 2
}
